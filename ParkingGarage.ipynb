{
 "cells": [
  {
   "cell_type": "markdown",
   "metadata": {},
   "source": [
    "# Parking Garage Project\n",
    "\n",
    "Your assignment for today is to create a parking garage class to get more familiar with Object Oriented Programming(OOP). \n",
    "\n",
    "Your parking gargage class should have the following methods:\n",
    "- takeTicket\n",
    "   - This should decrease the amount of tickets available by 1\n",
    "   - This should decrease the amount of parkingSpaces available by 1\n",
    "- payForParking\n",
    "   - Display an input that waits for an amount from the user and store it in a variable\n",
    "   - If the payment variable is not empty then ->  display a message to the user that their ticket has been paid and they have 15mins to leave\n",
    "   - This should update the \"currentTicket\" dictionary key \"paid\" to True\n",
    "-leaveGarage\n",
    "   - If the ticket has been paid, display a message of \"Thank You, have a nice day\"\n",
    "   - If the ticket has not been paid, display an input prompt for payment\n",
    "      - Once paid, display message \"Thank you, have a nice day!\"\n",
    "   - Update parkingSpaces list to increase by 1\n",
    "   - Update tickets list to increase by 1\n",
    "\n",
    "You will need a few attributes as well:\n",
    "- tickets -> list\n",
    "- parkingSpaces -> list\n",
    "- currentTicket -> dictionary"
   ]
  },
  {
   "cell_type": "code",
   "execution_count": 10,
   "metadata": {},
   "outputs": [
    {
     "ename": "IndentationError",
     "evalue": "expected an indented block (3412919169.py, line 8)",
     "output_type": "error",
     "traceback": [
      "\u001b[0;36m  Input \u001b[0;32mIn [10]\u001b[0;36m\u001b[0m\n\u001b[0;31m    print(\"We're sorry, but we're out of parking spaces! Please wait for someone to leave before admitance.\")\u001b[0m\n\u001b[0m    ^\u001b[0m\n\u001b[0;31mIndentationError\u001b[0m\u001b[0;31m:\u001b[0m expected an indented block\n"
     ]
    }
   ],
   "source": []
  },
  {
   "cell_type": "code",
   "execution_count": 1,
   "metadata": {},
   "outputs": [
    {
     "name": "stdout",
     "output_type": "stream",
     "text": [
      "Available tickets: 10\n",
      "Available spaces: 10\n",
      "Transaction Cancelled\n"
     ]
    }
   ],
   "source": [
    "from IPython.display import clear_output\n",
    "\n",
    "class Garage():\n",
    "    \n",
    "    def __init__ (self, tickets, parkingSpaces, currentTicket):\n",
    "        self.tickets = list(range(11))\n",
    "        self.parkingSpaces = list(range(11))\n",
    "        self.currentTicket = {}\n",
    "        \n",
    "    def printTickets(self):\n",
    "        print(f\"Available tickets: {len(self.tickets)-1}\")\n",
    "        print(f\"Available spaces: {len(self.parkingSpaces)-1}\")\n",
    "        \n",
    "    def takeTicket(self):\n",
    "        if len(self.tickets) == 1:\n",
    "            print(\"Garage is currently full. Please wait until parking spot is available.\")\n",
    "        else:\n",
    "            self.currentTicket[\"Paid\"] = False\n",
    "            self.tickets.pop()\n",
    "            self.parkingSpaces.pop()\n",
    "        print(f\"Available tickets: {len(self.tickets)-1}\")\n",
    "        print(f\"Available spaces: {len(self.parkingSpaces)-1}\")\n",
    "        \n",
    "    def payForParking(self):\n",
    "        payment = input(\"Parking is $10/hour. Please enter payment amount: \")\n",
    "        try:\n",
    "            if int(payment)<=0 :\n",
    "                print(\"Please enter a valid amount.\")\n",
    "            else:\n",
    "                print(\"Ticket has been paid! Please exit within 15 minutes.\") \n",
    "                self.currentTicket[\"Paid\"] = True   \n",
    "        except: \n",
    "            print(\"error\")\n",
    "        \n",
    "    def leaveGarage(self):\n",
    "        if self.currentTicket[\"Paid\"] == True:\n",
    "            print(\"Thank You, have a nice day! :) \")\n",
    "            self.currentTicket[\"Paid\"] = False  #This disables one payment to allow for multiple leaves\n",
    "        else:\n",
    "            try:\n",
    "                payment = input(\"Parking is $10/hour. Please enter payment amount: \")\n",
    "                if int(payment)<=0 :\n",
    "                    print(\"Please enter a valid amount.\")\n",
    "                else:\n",
    "                    print(\"Thank You, have a nice day!\")\n",
    "                    self.currentTicket[\"Paid\"] = False\n",
    "                self.tickets.append(self.tickets[-1]+1)\n",
    "                self.parkingSpaces.append(self.parkingSpaces[-1]+1) \n",
    "                print(f\"\\nAvailable tickets: {len(self.tickets)-1}\")\n",
    "                print(f\"Available spaces: {len(self.parkingSpaces)-1}\")     \n",
    "            except:\n",
    "                print(\"error\")\n",
    "\n",
    "\n",
    "target_gar = Garage(list(range(50)),list(range(50)),{})\n",
    "\n",
    "\n",
    "def run(): \n",
    "    while True: \n",
    "        ask = input(\"\\n\\nWhat do you want to do? \\n1 = Take a Ticket \\n2 = Pay for Parking \\n3 = Leave Grarage \\n4 = Quit\\n\")\n",
    "        if ask.lower() == \"4\":\n",
    "            clear_output()\n",
    "            target_gar.printTickets()\n",
    "            print(\"Transaction Cancelled\")\n",
    "            break\n",
    "        elif ask.lower() == \"1\":\n",
    "            clear_output()\n",
    "            target_gar.takeTicket()\n",
    "        elif ask.lower() == \"2\":\n",
    "            clear_output()\n",
    "            target_gar.payForParking()\n",
    "        elif ask.lower() == \"3\":\n",
    "            clear_output()\n",
    "            target_gar.leaveGarage()\n",
    "        else:\n",
    "            clear_output()\n",
    "            print(\"Try another command\")\n",
    "\n",
    "\n",
    "run()"
   ]
  },
  {
   "cell_type": "code",
   "execution_count": null,
   "metadata": {},
   "outputs": [],
   "source": []
  },
  {
   "cell_type": "code",
   "execution_count": null,
   "metadata": {},
   "outputs": [],
   "source": []
  }
 ],
 "metadata": {
  "kernelspec": {
   "display_name": "Python 3 (ipykernel)",
   "language": "python",
   "name": "python3"
  },
  "language_info": {
   "codemirror_mode": {
    "name": "ipython",
    "version": 3
   },
   "file_extension": ".py",
   "mimetype": "text/x-python",
   "name": "python",
   "nbconvert_exporter": "python",
   "pygments_lexer": "ipython3",
   "version": "3.9.13"
  }
 },
 "nbformat": 4,
 "nbformat_minor": 4
}
